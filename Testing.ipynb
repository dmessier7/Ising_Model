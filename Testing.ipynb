{
 "cells": [
  {
   "cell_type": "code",
   "execution_count": 2,
   "metadata": {},
   "outputs": [],
   "source": [
    "import numpy as np\n",
    "import pandas as pd\n",
    "import matplotlib.pyplot as plt\n",
    "import random as r\n",
    "import os\n",
    "import MetroSim as met"
   ]
  },
  {
   "cell_type": "code",
   "execution_count": 31,
   "metadata": {},
   "outputs": [
    {
     "name": "stdout",
     "output_type": "stream",
     "text": [
      "[ 1.6 -1.  -1.  -1.   1.  -1.   1.  -1.  -1.  -1.   1.  -1.  -1.  -1.\n",
      " -1.  -1.   1.   1.  -1.   1.   1.  -1.   1.   1.  -1.   1.   1.   1.\n",
      "  1.  -1.  -1.  -1.   1.   1.  -1.  -1.   1.   1.   1.   1.   1.  -1.\n",
      "  1.  -1.  -1.  -1.  -1.   1.   1.  -1.  -1.   1.   1.  -1.  -1.   1.\n",
      "  1.   1.  -1.  -1.   1.   1.   1.   1.  -1.   1.  -1.  -1.   1.   1.\n",
      " -1.   1.  -1.  -1.  -1.  -1.  -1.  -1.  -1.  -1.  -1.  -1.   1.   1.\n",
      "  1.   1.  -1.  -1.   1.  -1.  -1.  -1.  -1.  -1.  -1.  -1.   1.  -1.\n",
      "  1.  -1.  -1. ]\n"
     ]
    }
   ],
   "source": [
    "ggg = met.func(10, 10, 1)\n",
    "latt = ggg.flatten()\n",
    "l  = np.concatenate(([1.6],latt), axis=0)\n",
    "print(l)"
   ]
  },
  {
   "cell_type": "code",
   "execution_count": null,
   "metadata": {},
   "outputs": [],
   "source": [
    "tempRange = np.arange(1.6,3.1, 0.1)\n",
    "met.store(1000, 10, tempRange, 100)"
   ]
  },
  {
   "cell_type": "code",
   "execution_count": null,
   "metadata": {},
   "outputs": [],
   "source": []
  }
 ],
 "metadata": {
  "kernelspec": {
   "display_name": "Python 3",
   "language": "python",
   "name": "python3"
  },
  "language_info": {
   "codemirror_mode": {
    "name": "ipython",
    "version": 3
   },
   "file_extension": ".py",
   "mimetype": "text/x-python",
   "name": "python",
   "nbconvert_exporter": "python",
   "pygments_lexer": "ipython3",
   "version": "3.7.3"
  }
 },
 "nbformat": 4,
 "nbformat_minor": 2
}
