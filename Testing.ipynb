{
 "cells": [
  {
   "cell_type": "code",
   "execution_count": 37,
   "metadata": {},
   "outputs": [],
   "source": [
    "import numpy as np\n",
    "import pandas as pd\n",
    "import matplotlib.pyplot as plt\n",
    "import random as r\n",
    "import os\n",
    "import MetroSim as met"
   ]
  },
  {
   "cell_type": "code",
   "execution_count": 38,
   "metadata": {},
   "outputs": [
    {
     "name": "stdout",
     "output_type": "stream",
     "text": [
      "          T   S0   S1   S2   S3   S4   S5   S6   S7   S8  ...  S390  S391  \\\n",
      "1.6:0   1.6  1.0  1.0  1.0  1.0  1.0  1.0  1.0  1.0  1.0  ...   1.0   1.0   \n",
      "1.6:1   1.6  1.0  1.0  1.0  1.0  1.0  1.0  1.0  1.0  1.0  ...   1.0   1.0   \n",
      "1.6:2   1.6  1.0  1.0  1.0  1.0  1.0  1.0  1.0  1.0  1.0  ...   1.0   1.0   \n",
      "1.6:3   1.6 -1.0 -1.0 -1.0 -1.0 -1.0 -1.0 -1.0 -1.0 -1.0  ...  -1.0  -1.0   \n",
      "1.6:4   1.6  1.0  1.0  1.0  1.0  1.0  1.0  1.0  1.0  1.0  ...   1.0   1.0   \n",
      "...     ...  ...  ...  ...  ...  ...  ...  ...  ...  ...  ...   ...   ...   \n",
      "2.9:95  2.9 -1.0  1.0  1.0  1.0  1.0  1.0  1.0  1.0 -1.0  ...  -1.0  -1.0   \n",
      "2.9:96  2.9 -1.0 -1.0  1.0 -1.0 -1.0 -1.0  1.0  1.0 -1.0  ...   1.0  -1.0   \n",
      "2.9:97  2.9 -1.0 -1.0 -1.0  1.0 -1.0 -1.0  1.0 -1.0 -1.0  ...  -1.0  -1.0   \n",
      "2.9:98  2.9 -1.0 -1.0 -1.0 -1.0 -1.0  1.0  1.0  1.0 -1.0  ...  -1.0   1.0   \n",
      "2.9:99  2.9 -1.0 -1.0 -1.0  1.0  1.0 -1.0  1.0  1.0  1.0  ...  -1.0  -1.0   \n",
      "\n",
      "        S392  S393  S394  S395  S396  S397  S398  S399  \n",
      "1.6:0    1.0   1.0   1.0   1.0   1.0   1.0   1.0   1.0  \n",
      "1.6:1    1.0   1.0   1.0   1.0   1.0   1.0   1.0   1.0  \n",
      "1.6:2    1.0   1.0   1.0   1.0   1.0   1.0   1.0   1.0  \n",
      "1.6:3   -1.0  -1.0  -1.0  -1.0  -1.0  -1.0  -1.0  -1.0  \n",
      "1.6:4    1.0   1.0   1.0   1.0   1.0   1.0   1.0   1.0  \n",
      "...      ...   ...   ...   ...   ...   ...   ...   ...  \n",
      "2.9:95  -1.0  -1.0  -1.0  -1.0   1.0  -1.0  -1.0   1.0  \n",
      "2.9:96   1.0   1.0   1.0   1.0   1.0   1.0   1.0   1.0  \n",
      "2.9:97  -1.0  -1.0  -1.0  -1.0   1.0  -1.0   1.0   1.0  \n",
      "2.9:98   1.0   1.0   1.0   1.0   1.0   1.0   1.0  -1.0  \n",
      "2.9:99  -1.0  -1.0  -1.0  -1.0  -1.0  -1.0   1.0  -1.0  \n",
      "\n",
      "[1400 rows x 401 columns]\n"
     ]
    }
   ],
   "source": [
    "p = os.getcwd()\n",
    "d = pd.read_csv(p+'/20.csv') # Download a premade data set\n",
    "l = d['Unnamed: 0'].tolist()\n",
    "d['Unnamed: 0'] = d['Unnamed: 0'].apply(lambda x: float(x[:3]))\n",
    "#data = data.reindex(l)\n",
    "d = d.rename(columns={'Unnamed: 0': 'T'})\n",
    "#print(d)\n",
    "S = ['S'+ str(i) for i in range(20**2)]\n",
    "S.insert(0, 'T')\n",
    "data = pd.DataFrame(data=d.values, columns=S, index=l)\n",
    "print(data)"
   ]
  },
  {
   "cell_type": "code",
   "execution_count": 39,
   "metadata": {},
   "outputs": [],
   "source": [
    "data.to_csv (r''+p+'/20_unknown.csv', index = True, header=True)"
   ]
  },
  {
   "cell_type": "code",
   "execution_count": null,
   "metadata": {},
   "outputs": [],
   "source": []
  }
 ],
 "metadata": {
  "kernelspec": {
   "display_name": "Python 3",
   "language": "python",
   "name": "python3"
  },
  "language_info": {
   "codemirror_mode": {
    "name": "ipython",
    "version": 3
   },
   "file_extension": ".py",
   "mimetype": "text/x-python",
   "name": "python",
   "nbconvert_exporter": "python",
   "pygments_lexer": "ipython3",
   "version": "3.7.3"
  }
 },
 "nbformat": 4,
 "nbformat_minor": 2
}
