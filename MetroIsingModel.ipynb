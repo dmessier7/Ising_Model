{
 "cells": [
  {
   "cell_type": "code",
   "execution_count": 2,
   "metadata": {},
   "outputs": [],
   "source": [
    "import numpy as np\n",
    "import matplotlib.pyplot as plt\n",
    "import random as r\n",
    "import MetroSim as met"
   ]
  },
  {
   "cell_type": "code",
   "execution_count": 15,
   "metadata": {},
   "outputs": [
    {
     "data": {
      "image/png": "[encoded data removed]",
      "text/plain": [
       "<Figure size 432x288 with 1 Axes>"
      ]
     },
     "metadata": {
      "needs_background": "light"
     },
     "output_type": "display_data"
    }
   ],
   "source": [
    "# Looking at distribution of the Energies\n",
    "R = []\n",
    "U = []\n",
    "l = 0\n",
    "while l < 5000: # Creating 5000 different random lattices to look at \n",
    "    q = met.Setup(10) # Creating them\n",
    "    c, d = met.Calc(q) # Calculating their Energy and Magnetization\n",
    "    R.append(c) \n",
    "    U.append(d)\n",
    "    l += 1\n",
    "\n",
    "bins = np.arange(-300, 100)\n",
    "bin = np.arange(-20, 20)\n",
    "plt.hist(R, bins=bins) # Blue: Energy\n",
    "plt.hist(U, bins=bin) # Orange: Magnetization\n",
    "plt.show()"
   ]
  },
  {
   "cell_type": "code",
   "execution_count": 6,
   "metadata": {},
   "outputs": [],
   "source": [
    "def Run(runs, steps, size):\n",
    "    Temp = np.arange(2.0, 3.0, 0.05)\n",
    "    Ep = []\n",
    "    En = []\n",
    "    Mp = []\n",
    "    Mn = []\n",
    "    for i in Temp:\n",
    "        a, b, c, d = met.AVG(runs, steps, size, i)\n",
    "        Ep.append(a)\n",
    "        En.append(b)\n",
    "        Mp.append(c)\n",
    "        Mn.append(d)\n",
    "\n",
    "    return Temp, Ep, En, Mp, Mn"
   ]
  },
  {
   "cell_type": "code",
   "execution_count": null,
   "metadata": {},
   "outputs": [],
   "source": [
    "# Test of Function. Running it multiple times shows the temperature can oscilate bettwen M = 1, M = -1, and neither\n",
    "N = 20000\n",
    "f, d = func(N, 15, 1)\n",
    "\n",
    "x = np.arange(0, N+1)\n",
    "#plt.plot(x, f, 'b') # blue: Energy\n",
    "plt.plot(x, d, 'r') # red: Magnetization\n",
    "plt.show()\n",
    "h = size[d]\n",
    "print(h)"
   ]
  },
  {
   "cell_type": "code",
   "execution_count": 11,
   "metadata": {},
   "outputs": [],
   "source": [
    "temp, u, v, w, x = Run(30, 10000 , 10)"
   ]
  },
  {
   "cell_type": "code",
   "execution_count": 12,
   "metadata": {},
   "outputs": [
    {
     "data": {
      "image/png": "[encoded data removed]",
      "text/plain": [
       "<Figure size 432x288 with 1 Axes>"
      ]
     },
     "metadata": {
      "needs_background": "light"
     },
     "output_type": "display_data"
    }
   ],
   "source": [
    "plt.plot(temp, w, 'b') # blue: Mag P\n",
    "plt.plot(temp, x, 'r') # red: Mag N\n",
    "plt.show()"
   ]
  },
  {
   "cell_type": "code",
   "execution_count": null,
   "metadata": {},
   "outputs": [],
   "source": []
  }
 ],
 "metadata": {
  "kernelspec": {
   "display_name": "Python 3",
   "language": "python",
   "name": "python3"
  },
  "language_info": {
   "codemirror_mode": {
    "name": "ipython",
    "version": 3
   },
   "file_extension": ".py",
   "mimetype": "text/x-python",
   "name": "python",
   "nbconvert_exporter": "python",
   "pygments_lexer": "ipython3",
   "version": "3.7.3"
  }
 },
 "nbformat": 4,
 "nbformat_minor": 2
}
