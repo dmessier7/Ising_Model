{
 "cells": [
  {
   "cell_type": "code",
   "execution_count": 2,
   "metadata": {},
   "outputs": [],
   "source": [
    "import numpy as np\n",
    "import pandas as pd\n",
    "pd.set_option('display.max_rows', None)\n",
    "pd.set_option('display.max_columns', None)\n",
    "pd.set_option('display.width', None)\n",
    "import matplotlib.pyplot as plt\n",
    "import random as r\n",
    "import MetroSim as met\n",
    "from matplotlib.animation import FuncAnimation\n",
    "import os"
   ]
  },
  {
   "cell_type": "code",
   "execution_count": 224,
   "metadata": {},
   "outputs": [],
   "source": [
    "J = 1\n",
    "k = 1\n",
    "def funcArray(steps, size, Temp): # Function to run through\n",
    "    latt = met.Setup(size) # Set up random lattice of size^2\n",
    "    ar = []\n",
    "    ar.append(latt)\n",
    "    s = 0\n",
    "    while s < steps:\n",
    "        n, m = r.randrange(0, size, 1), r.randrange(0, size, 1) # two random values for a random location on the lattice\n",
    "        old  = (latt[(n-1)%size,m]*latt[n,m]) + (latt[(n+1)%size,m]*latt[n,m]) + (latt[n,(m-1)%size]*latt[n,m]) + (latt[n,(m+1)%size]*latt[n,m])\n",
    "        latt[n,m] *= -1 # try flipping the spin at that site\n",
    "        new  = (latt[(n-1)%size,m]*latt[n,m]) + (latt[(n+1)%size,m]*latt[n,m]) + (latt[n,(m-1)%size]*latt[n,m]) + (latt[n,(m+1)%size]*latt[n,m])\n",
    "        de = -J*(new - old) # dE = Ef - Ei\n",
    "        if de > 0 and r.random() > np.exp(-de/(k*Temp)):\n",
    "            latt[n,m] *= -1 # Return the spin to normal if not accepted\n",
    "        # The lattice wont change back unless the de is positive and the random number is above transition prob\n",
    "        \n",
    "        ar.append(latt)\n",
    "        s += 1\n",
    "        \n",
    "    return ar, latt"
   ]
  },
  {
   "cell_type": "code",
   "execution_count": 225,
   "metadata": {},
   "outputs": [],
   "source": [
    "h, j= funcArray(1000, 10, 1.0)"
   ]
  },
  {
   "cell_type": "code",
   "execution_count": 226,
   "metadata": {},
   "outputs": [
    {
     "name": "stdout",
     "output_type": "stream",
     "text": [
      "[[ 1  1  1  1  1  1  1  1  1  1]\n",
      " [ 1  1  1  1  1  1  1  1  1  1]\n",
      " [ 1  1  1  1  1  1  1  1  1  1]\n",
      " [ 1  1  1  1  1  1  1  1  1  1]\n",
      " [ 1  1  1  1  1 -1  1  1  1  1]\n",
      " [ 1  1  1  1  1  1  1  1  1  1]\n",
      " [ 1  1  1  1  1  1  1  1  1  1]\n",
      " [ 1  1  1  1  1  1  1  1  1  1]\n",
      " [ 1  1  1  1  1  1  1  1 -1 -1]\n",
      " [ 1  1  1  1  1  1  1  1  1  1]]\n",
      "[[ 1  1  1  1  1  1  1  1  1  1]\n",
      " [ 1  1  1  1  1  1  1  1  1  1]\n",
      " [ 1  1  1  1  1  1  1  1  1  1]\n",
      " [ 1  1  1  1  1  1  1  1  1  1]\n",
      " [ 1  1  1  1  1 -1  1  1  1  1]\n",
      " [ 1  1  1  1  1  1  1  1  1  1]\n",
      " [ 1  1  1  1  1  1  1  1  1  1]\n",
      " [ 1  1  1  1  1  1  1  1  1  1]\n",
      " [ 1  1  1  1  1  1  1  1 -1 -1]\n",
      " [ 1  1  1  1  1  1  1  1  1  1]]\n"
     ]
    }
   ],
   "source": [
    "print(h[0])\n",
    "print(j)\n",
    "#print(h[999].flatten())"
   ]
  },
  {
   "cell_type": "code",
   "execution_count": 53,
   "metadata": {},
   "outputs": [
    {
     "name": "stdout",
     "output_type": "stream",
     "text": [
      "[[ 1 -1 -1  1  1 -1  1 -1  1 -1  1  1 -1 -1  1 -1]\n",
      " [ 1 -1 -1 -1 -1 -1 -1  1  1  1 -1 -1 -1 -1 -1 -1]\n",
      " [ 1  1 -1  1 -1  1 -1  1 -1  1  1  1 -1  1 -1 -1]\n",
      " [ 1  1  1  1  1  1 -1  1 -1  1  1  1  1 -1  1 -1]\n",
      " [-1  1 -1  1  1 -1 -1  1 -1 -1  1  1  1  1 -1 -1]\n",
      " [-1  1 -1  1  1 -1  1  1 -1 -1 -1  1 -1  1 -1  1]\n",
      " [-1  1 -1  1 -1  1 -1 -1  1 -1 -1 -1 -1  1 -1  1]\n",
      " [-1  1  1  1 -1 -1 -1  1 -1  1  1  1 -1  1  1  1]\n",
      " [-1 -1 -1 -1 -1 -1  1 -1 -1  1  1 -1  1 -1 -1 -1]\n",
      " [ 1 -1  1  1 -1 -1  1 -1 -1 -1  1  1 -1 -1 -1  1]\n",
      " [-1  1 -1 -1 -1 -1 -1 -1  1 -1 -1  1 -1 -1  1  1]\n",
      " [-1 -1  1 -1 -1  1  1 -1  1  1  1 -1  1  1  1  1]\n",
      " [ 1 -1 -1 -1 -1  1  1  1  1 -1  1 -1  1  1 -1 -1]\n",
      " [ 1 -1 -1  1 -1  1  1  1 -1 -1 -1 -1 -1 -1  1 -1]\n",
      " [-1  1 -1  1  1  1  1  1  1 -1 -1  1  1  1 -1  1]\n",
      " [ 1 -1  1  1 -1 -1 -1 -1 -1  1 -1  1 -1 -1 -1 -1]]\n"
     ]
    }
   ],
   "source": [
    "latt = met.func(10, 16, 1.0)\n",
    "print(latt)\n"
   ]
  },
  {
   "cell_type": "code",
   "execution_count": 57,
   "metadata": {},
   "outputs": [
    {
     "name": "stdout",
     "output_type": "stream",
     "text": [
      "[ 1 -1 -1  1  1 -1  1 -1  1 -1  1  1 -1 -1  1 -1  1 -1 -1 -1 -1 -1 -1  1\n",
      "  1  1 -1 -1 -1 -1 -1 -1  1  1 -1  1 -1  1 -1  1 -1  1  1  1 -1  1 -1 -1\n",
      "  1  1  1  1  1  1 -1  1 -1  1  1  1  1 -1  1 -1 -1  1 -1  1  1 -1 -1  1\n",
      " -1 -1  1  1  1  1 -1 -1 -1  1 -1  1  1 -1  1  1 -1 -1 -1  1 -1  1 -1  1\n",
      " -1  1 -1  1 -1  1 -1 -1  1 -1 -1 -1 -1  1 -1  1 -1  1  1  1 -1 -1 -1  1\n",
      " -1  1  1  1 -1  1  1  1 -1 -1 -1 -1 -1 -1  1 -1 -1  1  1 -1  1 -1 -1 -1\n",
      "  1 -1  1  1 -1 -1  1 -1 -1 -1  1  1 -1 -1 -1  1 -1  1 -1 -1 -1 -1 -1 -1\n",
      "  1 -1 -1  1 -1 -1  1  1 -1 -1  1 -1 -1  1  1 -1  1  1  1 -1  1  1  1  1\n",
      "  1 -1 -1 -1 -1  1  1  1  1 -1  1 -1  1  1 -1 -1  1 -1 -1  1 -1  1  1  1\n",
      " -1 -1 -1 -1 -1 -1  1 -1 -1  1 -1  1  1  1  1  1  1 -1 -1  1  1  1 -1  1\n",
      "  1 -1  1  1 -1 -1 -1 -1 -1  1 -1  1 -1 -1 -1 -1]\n"
     ]
    }
   ],
   "source": [
    "y = latt.flatten()\n",
    "print(y)"
   ]
  },
  {
   "cell_type": "code",
   "execution_count": 58,
   "metadata": {},
   "outputs": [
    {
     "name": "stdout",
     "output_type": "stream",
     "text": [
      "[[ 1 -1 -1  1  1 -1  1 -1  1 -1  1  1 -1 -1  1 -1]\n",
      " [ 1 -1 -1 -1 -1 -1 -1  1  1  1 -1 -1 -1 -1 -1 -1]\n",
      " [ 1  1 -1  1 -1  1 -1  1 -1  1  1  1 -1  1 -1 -1]\n",
      " [ 1  1  1  1  1  1 -1  1 -1  1  1  1  1 -1  1 -1]\n",
      " [-1  1 -1  1  1 -1 -1  1 -1 -1  1  1  1  1 -1 -1]\n",
      " [-1  1 -1  1  1 -1  1  1 -1 -1 -1  1 -1  1 -1  1]\n",
      " [-1  1 -1  1 -1  1 -1 -1  1 -1 -1 -1 -1  1 -1  1]\n",
      " [-1  1  1  1 -1 -1 -1  1 -1  1  1  1 -1  1  1  1]\n",
      " [-1 -1 -1 -1 -1 -1  1 -1 -1  1  1 -1  1 -1 -1 -1]\n",
      " [ 1 -1  1  1 -1 -1  1 -1 -1 -1  1  1 -1 -1 -1  1]\n",
      " [-1  1 -1 -1 -1 -1 -1 -1  1 -1 -1  1 -1 -1  1  1]\n",
      " [-1 -1  1 -1 -1  1  1 -1  1  1  1 -1  1  1  1  1]\n",
      " [ 1 -1 -1 -1 -1  1  1  1  1 -1  1 -1  1  1 -1 -1]\n",
      " [ 1 -1 -1  1 -1  1  1  1 -1 -1 -1 -1 -1 -1  1 -1]\n",
      " [-1  1 -1  1  1  1  1  1  1 -1 -1  1  1  1 -1  1]\n",
      " [ 1 -1  1  1 -1 -1 -1 -1 -1  1 -1  1 -1 -1 -1 -1]]\n"
     ]
    }
   ],
   "source": [
    "l = y.reshape(16,16)\n",
    "print(l)"
   ]
  },
  {
   "cell_type": "code",
   "execution_count": 62,
   "metadata": {},
   "outputs": [],
   "source": [
    "# Preparing the training and test data\n",
    "# Must be normalized\n",
    "data = pd.read_csv('16_25000_2800.csv') # Download a premade data set\n",
    "# randomizing the data with the temperature index\n",
    "randomized = np.random.permutation(data)\n",
    "r= [i[1:] for i in randomized] \n",
    "name = [i[0] for i in randomized]\n",
    "\n",
    "#"
   ]
  },
  {
   "cell_type": "code",
   "execution_count": 3,
   "metadata": {},
   "outputs": [
    {
     "name": "stdout",
     "output_type": "stream",
     "text": [
      "[0.1 0.2 0.3 0.4 0.5 0.6 0.7 0.8 0.9 1.  1.1 1.2 1.3 1.4 1.5 1.6 1.7 1.8\n",
      " 1.9 2.  2.1 2.2 2.3 2.4 2.5 2.6 2.7 2.8 2.9 3. ]\n"
     ]
    }
   ],
   "source": [
    "data1 = pd.read_csv('16_25000_2800.csv') # Download a premade data set\n",
    "t = np.arange(0.1,3.1,0.1)\n",
    "n = 1000\n",
    "S = ['S'+ str(i) for i in range(L**2)]\n",
    "S.insert(0, 'T')\n",
    "M = [str(round(i,1))+':'+str(j) for i in t for j in range(n)]\n",
    "data = pd.DataFrame(columns=S, index=M)\n",
    "for i in t:\n",
    "    j = 0\n",
    "    while j < 2801:\n",
    "        if j < 1001:\n",
    "            data.loc[str(i)+':'+ str(j)] = data1.loc[str(i)+':'+ str(j)] \n",
    "        j ++;\n",
    "            "
   ]
  },
  {
   "cell_type": "code",
   "execution_count": null,
   "metadata": {},
   "outputs": [],
   "source": []
  }
 ],
 "metadata": {
  "kernelspec": {
   "display_name": "Python 3",
   "language": "python",
   "name": "python3"
  },
  "language_info": {
   "codemirror_mode": {
    "name": "ipython",
    "version": 3
   },
   "file_extension": ".py",
   "mimetype": "text/x-python",
   "name": "python",
   "nbconvert_exporter": "python",
   "pygments_lexer": "ipython3",
   "version": "3.7.3"
  }
 },
 "nbformat": 4,
 "nbformat_minor": 2
}
