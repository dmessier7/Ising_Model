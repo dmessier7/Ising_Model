{
 "cells": [
  {
   "cell_type": "code",
   "execution_count": 44,
   "metadata": {},
   "outputs": [],
   "source": [
    "from IPython.display import Latex"
   ]
  },
  {
   "cell_type": "markdown",
   "metadata": {},
   "source": [
    "# Simple Linear Perceptron Network\n",
    "This notebook demonstrates a simple linear neural network with an input later, one hidden layer of perceptrons, and an output layer.\n",
    "\n",
    "**Input Layer**: The spin values of a monte carlo simulated Ising model.\n",
    "\\begin{align}\n",
    "\\vec{x}=[\\sigma_1, \\sigma_2, ..., \\sigma_N]\n",
    "\\end{align}\n",
    "\n",
    "**Hidden Layer**: Three heavyside step perceptrons defined by the following linear transformation with one parameter, $\\epsilon$.\n",
    "\\begin{align}\n",
    "W_1\\vec{x} + \\vec{b_1} = \\dfrac{1}{1+\\epsilon}\n",
    "    \\begin{bmatrix}\n",
    "           m(\\vec{x})-\\epsilon \\\\\n",
    "           -m(\\vec{x})-\\epsilon \\\\\n",
    "           m(\\vec{x})+\\epsilon\n",
    "         \\end{bmatrix}\n",
    "     =   \\begin{bmatrix}\n",
    "           P_1 \\\\\n",
    "           P_2 \\\\\n",
    "           P_3\n",
    "         \\end{bmatrix}  \n",
    "      = \\vec{P}\n",
    "\\end{align}\n",
    "Where $m(x)= \\dfrac{1}{N}\\sum^N \\sigma_i$\n",
    "\n",
    "The output of each perceptron really depends on the magnetization of lattice and the value of $\\epsilon$.\n",
    "\n",
    "$P_1$: Activates when $m(\\vec{x}) > \\epsilon$. Correlating to a low temp spin up lattice.\n",
    "\n",
    "$P_2$: Activates when $m(\\vec{x}) < -\\epsilon$. Correlating to a low temp spin down lattice.\n",
    "\n",
    "$P_3$: Activates when $m(\\vec{x}) > -\\epsilon$. Which either correlates to a high temp unpolarized state, or a low temp spind down lattice.\n",
    "\n",
    "**Output Layer**: Two nodes, O-low indicating lattice was simulated below the phase change's temperature and O-high indicating it was simulated above that temperature. The values of each node is determined by the following linear transformation\n",
    "\\begin{align}\n",
    "W_2\\vec{P} = \\begin{bmatrix}\n",
    "           2 & 2 & -1 \\\\\n",
    "           -2 & -2 & 1\n",
    "         \\end{bmatrix}\n",
    "       \\vec{P}\n",
    "      = \\begin{bmatrix}\n",
    "           O_{low} \\\\\n",
    "           O_{high}\n",
    "         \\end{bmatrix}\n",
    "\\end{align}\n",
    "\n",
    "This basically ensures that the $O_{low}$ is always 1 if $P_1$ or $P_2$ are high it's indicated that polarization is present indicated low temp. And that $O_{high}$ is only high if both $P_3$ is high and $P_1$ is low, indicating not polarization and therefore a high temperature.\n",
    "\n",
    "The question we have for this model is what value of $\\epsilon$ returns the least amount of error for predicting whether a given lattice is from a temperature below or above the Curie Temp."
   ]
  },
  {
   "cell_type": "code",
   "execution_count": 45,
   "metadata": {},
   "outputs": [],
   "source": [
    "import numpy as np\n",
    "import pandas as pd\n",
    "import matplotlib.pyplot as plt\n",
    "import random as r\n",
    "import MetroSim as met\n",
    "\n",
    "# Constants\n",
    "TJ = 2/np.log(1+np.sqrt(2)) # The known phase change temperature"
   ]
  },
  {
   "cell_type": "code",
   "execution_count": 46,
   "metadata": {},
   "outputs": [],
   "source": [
    "# Preparing Data\n",
    "datatable = pd.read_csv('20_unknown.csv', index_col=0) # Download a premade data set\n",
    "data = datatable.values\n",
    "randomized = np.random.permutation(data) # randomizing allows use to use small batches for back progration when\n",
    "# attempting to find the optimal epsilon"
   ]
  },
  {
   "cell_type": "code",
   "execution_count": 47,
   "metadata": {},
   "outputs": [],
   "source": [
    "def pol(x): # Function to immitate a Heaveside step\n",
    "    for i in x:\n",
    "        if i>0:\n",
    "            i = 1\n",
    "        else: \n",
    "            i = 0\n",
    "    return x\n",
    "\n",
    "def W1(x, e): # Takes the input spin values and outputs the perceptron's values\n",
    "    m = x.sum()/len(x)\n",
    "    W = [m-e, 0-m-e, m+e]\n",
    "    W = [(1.0/(1.0+e))*i for i in W]\n",
    "    return m, W\n",
    "\n",
    "def W2(y): # Takes in the Perceptrons values and outputs the output layer values\n",
    "    W = np.array(([2, 2, -1],[-2, -2, 1]))\n",
    "    out = W.dot(y)\n",
    "    return out"
   ]
  },
  {
   "cell_type": "code",
   "execution_count": 60,
   "metadata": {},
   "outputs": [],
   "source": [
    "# The Cost Function will take in a batch of lattices with their known temperature and calculate the 'cost',\n",
    "# which is the amount of error, our first transformation W1 will have with a given epsilon value.\n",
    "\n",
    "def costf(e, k): # e is the epsilon and k is the batch array\n",
    "    temp = k[:,0]\n",
    "    spins = k[:,1:]\n",
    "    totalcost = 0\n",
    "    for i in np.arange(len(temp)):\n",
    "        m, W = W1(spins[i], e)\n",
    "        if i < TJ and m>0:\n",
    "            a = np.power(1-W[0],2.0)\n",
    "            b = np.power(W[1],2.0)\n",
    "            c = np.power(W[2],2.0)\n",
    "            totalcost += np.sqrt(a+b+c)\n",
    "        elif i < TJ and m<0:\n",
    "            a = np.power(W[0],2.0)\n",
    "            b = np.power(1-W[1],2.0)\n",
    "            c = np.power(W[2],2.0)\n",
    "            totalcost += np.sqrt(a+b+c)\n",
    "        else:\n",
    "            a = np.power(W[0],2.0)\n",
    "            b = np.power(W[1],2.0)\n",
    "            c = np.power(1-W[2],2.0)\n",
    "            totalcost += np.sqrt(a+b+c)\n",
    "    cost = totalcost/len(temp)\n",
    "    return cost\n"
   ]
  },
  {
   "cell_type": "code",
   "execution_count": 68,
   "metadata": {},
   "outputs": [],
   "source": [
    "# Graphing the Cost function over different values in 0 < epsilong < 1\n",
    "e = np.arange(0.005,1.005, 0.005)\n",
    "cost = []\n",
    "\n",
    "for h in e:\n",
    "    l = costf(h, randomized)\n",
    "    cost.append(l)\n",
    "    \n",
    "plt.plot(e, cost, 'b')\n",
    "plt.show()\n",
    "j= cost.index(min(cost))\n",
    "e[j]"
   ]
  },
  {
   "cell_type": "code",
   "execution_count": null,
   "metadata": {},
   "outputs": [],
   "source": [
    "def Transform(e, vec): # e value of epsilon, vec list [temp, s0, s1, s2...]\n",
    "    m, W = W1(e, vec)\n",
    "    out = W2(W)\n",
    "    return out"
   ]
  }
 ],
 "metadata": {
  "kernelspec": {
   "display_name": "Python 3",
   "language": "python",
   "name": "python3"
  },
  "language_info": {
   "codemirror_mode": {
    "name": "ipython",
    "version": 3
   },
   "file_extension": ".py",
   "mimetype": "text/x-python",
   "name": "python",
   "nbconvert_exporter": "python",
   "pygments_lexer": "ipython3",
   "version": "3.7.3"
  }
 },
 "nbformat": 4,
 "nbformat_minor": 2
}
