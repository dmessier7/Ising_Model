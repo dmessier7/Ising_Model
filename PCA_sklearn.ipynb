{
 "cells": [
  {
   "cell_type": "code",
   "execution_count": 29,
   "metadata": {},
   "outputs": [],
   "source": [
    "import numpy as np\n",
    "import pandas as pd\n",
    "import matplotlib.pyplot as plt\n",
    "import random as r\n",
    "from sklearn.decomposition import PCA\n",
    "from sklearn import preprocessing"
   ]
  },
  {
   "cell_type": "code",
   "execution_count": 28,
   "metadata": {
    "scrolled": false
   },
   "outputs": [
    {
     "name": "stdout",
     "output_type": "stream",
     "text": [
      "        S0  S1  S2  S3  S4  S5  S6  S7  S8  S9  ...  S390  S391  S392  S393  \\\n",
      "1.6:0    1   1   1   1   1   1   1   1   1   1  ...     1     1     1     1   \n",
      "1.6:1    1   1   1   1   1   1   1   1   1   1  ...     1     1     1     1   \n",
      "1.6:2    1   1   1   1   1   1   1   1   1   1  ...     1     1     1     1   \n",
      "1.6:3   -1  -1  -1  -1  -1  -1  -1  -1  -1  -1  ...    -1    -1    -1    -1   \n",
      "1.6:4    1   1   1   1   1   1   1   1   1   1  ...     1     1     1     1   \n",
      "...     ..  ..  ..  ..  ..  ..  ..  ..  ..  ..  ...   ...   ...   ...   ...   \n",
      "2.9:95  -1   1   1   1   1   1   1   1  -1   1  ...    -1    -1    -1    -1   \n",
      "2.9:96  -1  -1   1  -1  -1  -1   1   1  -1  -1  ...     1    -1     1     1   \n",
      "2.9:97  -1  -1  -1   1  -1  -1   1  -1  -1   1  ...    -1    -1    -1    -1   \n",
      "2.9:98  -1  -1  -1  -1  -1   1   1   1  -1  -1  ...    -1     1     1     1   \n",
      "2.9:99  -1  -1  -1   1   1  -1   1   1   1  -1  ...    -1    -1    -1    -1   \n",
      "\n",
      "        S394  S395  S396  S397  S398  S399  \n",
      "1.6:0      1     1     1     1     1     1  \n",
      "1.6:1      1     1     1     1     1     1  \n",
      "1.6:2      1     1     1     1     1     1  \n",
      "1.6:3     -1    -1    -1    -1    -1    -1  \n",
      "1.6:4      1     1     1     1     1     1  \n",
      "...      ...   ...   ...   ...   ...   ...  \n",
      "2.9:95    -1    -1     1    -1    -1     1  \n",
      "2.9:96     1     1     1     1     1     1  \n",
      "2.9:97    -1    -1     1    -1     1     1  \n",
      "2.9:98     1     1     1     1     1    -1  \n",
      "2.9:99    -1    -1    -1    -1     1    -1  \n",
      "\n",
      "[1400 rows x 400 columns]\n"
     ]
    }
   ],
   "source": [
    "data = pd.read_csv('20.csv', index_col=0) # Download a premade data set\n",
    "print(data)"
   ]
  },
  {
   "cell_type": "code",
   "execution_count": 7,
   "metadata": {},
   "outputs": [
    {
     "name": "stdout",
     "output_type": "stream",
     "text": [
      "(1400, 400)\n"
     ]
    }
   ],
   "source": [
    "# Center and Scale the Data. Avg value will be 1 and the standard dev will be 1.\n",
    "\n",
    "scaled_data = preprocessing.scale(data)\n",
    "# Notice the thing is transposed\n",
    "# sklearn calculated standard dev as population, not sample\n",
    "\n",
    "# Performs PCA\n",
    "pca = PCA()\n",
    "pca.fit(scaled_data)\n",
    "pca_data= pca.transform(scaled_data)\n",
    "print(pca_data.shape)"
   ]
  },
  {
   "cell_type": "code",
   "execution_count": 8,
   "metadata": {},
   "outputs": [
    {
     "data": {
      "image/png": "[encoded data removed]",
      "text/plain": [
       "<Figure size 432x288 with 1 Axes>"
      ]
     },
     "metadata": {
      "needs_background": "light"
     },
     "output_type": "display_data"
    }
   ],
   "source": [
    "# Graphing Percentage of Variance for each PC\n",
    "per_var = np.round(pca.explained_variance_ratio_* 100, decimals= 1) # Calculates the percentage of variance for each PC\n",
    "labels = ['PC'+str(x) for x in range(1, len(per_var)+1)] # labels for each PC\n",
    "\n",
    "plt.bar(x=range(1, len(per_var)+1), height=per_var, tick_label=labels)\n",
    "plt.ylabel('Percentage of Explained Variance')\n",
    "plt.xlabel('Principal Component')\n",
    "plt.title('Scree Plot')\n",
    "plt.show()"
   ]
  },
  {
   "cell_type": "code",
   "execution_count": 14,
   "metadata": {},
   "outputs": [
    {
     "ename": "TypeError",
     "evalue": "'int' object is not subscriptable",
     "output_type": "error",
     "traceback": [
      "\u001b[0;31m---------------------------------------------------------------------------\u001b[0m",
      "\u001b[0;31mTypeError\u001b[0m                                 Traceback (most recent call last)",
      "\u001b[0;32m<ipython-input-14-9138a657509f>\u001b[0m in \u001b[0;36m<module>\u001b[0;34m\u001b[0m\n\u001b[1;32m      6\u001b[0m     \u001b[0mj\u001b[0m \u001b[0;34m=\u001b[0m \u001b[0;36m0\u001b[0m\u001b[0;34m\u001b[0m\u001b[0;34m\u001b[0m\u001b[0m\n\u001b[1;32m      7\u001b[0m     \u001b[0;32mwhile\u001b[0m \u001b[0mj\u001b[0m \u001b[0;34m<\u001b[0m \u001b[0;36m100\u001b[0m\u001b[0;34m:\u001b[0m\u001b[0;34m\u001b[0m\u001b[0;34m\u001b[0m\u001b[0m\n\u001b[0;32m----> 8\u001b[0;31m         \u001b[0mt\u001b[0m\u001b[0;34m.\u001b[0m\u001b[0mappend\u001b[0m\u001b[0;34m(\u001b[0m\u001b[0mi\u001b[0m\u001b[0;34m[\u001b[0m\u001b[0;34m:\u001b[0m\u001b[0;36m4\u001b[0m\u001b[0;34m]\u001b[0m\u001b[0;34m)\u001b[0m\u001b[0;34m\u001b[0m\u001b[0;34m\u001b[0m\u001b[0m\n\u001b[0m\u001b[1;32m      9\u001b[0m \u001b[0;34m\u001b[0m\u001b[0m\n\u001b[1;32m     10\u001b[0m         \u001b[0mj\u001b[0m \u001b[0;34m+=\u001b[0m \u001b[0;36m1\u001b[0m\u001b[0;34m\u001b[0m\u001b[0;34m\u001b[0m\u001b[0m\n",
      "\u001b[0;31mTypeError\u001b[0m: 'int' object is not subscriptable"
     ]
    }
   ],
   "source": [
    "# Plot PC1 against PC2\n",
    "pcaDF = pd.DataFrame(pca_data, columns = labels)\n",
    "#print(pcaDF)\n",
    "t = []\n",
    "for i in range(1400):\n",
    "    j = 0\n",
    "    while j < 100:\n",
    "        t.append(i[:4])\n",
    "        j += 1\n",
    "plt.scatter(pcaDF.PC1, pcaDF.PC2, c=t, cmap= \"seismic\", s = 1)\n",
    "plt.show()"
   ]
  },
  {
   "cell_type": "code",
   "execution_count": null,
   "metadata": {},
   "outputs": [],
   "source": []
  }
 ],
 "metadata": {
  "kernelspec": {
   "display_name": "Python 3",
   "language": "python",
   "name": "python3"
  },
  "language_info": {
   "codemirror_mode": {
    "name": "ipython",
    "version": 3
   },
   "file_extension": ".py",
   "mimetype": "text/x-python",
   "name": "python",
   "nbconvert_exporter": "python",
   "pygments_lexer": "ipython3",
   "version": "3.7.3"
  }
 },
 "nbformat": 4,
 "nbformat_minor": 2
}
